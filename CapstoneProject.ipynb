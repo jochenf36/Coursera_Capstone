{
 "cells": [
  {
   "cell_type": "markdown",
   "metadata": {},
   "source": [
    "# Capstone Project: \n",
    "## Using Foursquare-data to determine the success of a new burger-restaurant in a particular neighbourhood "
   ]
  },
  {
   "cell_type": "markdown",
   "metadata": {},
   "source": [
    "<img src=\"https://solution-selling-training.com/wp-content/uploads/2015/11/success-failure-man-succeeding1.jpg\" alt=\"Drawing\" style=\"width: 200px;\"/>\n"
   ]
  },
  {
   "cell_type": "markdown",
   "metadata": {},
   "source": [
    "### Business Understanding\n",
    "The goal project is to determine if a burger restaurant will become __successful__ in a __particular neighbourhood__ .  \n",
    "A restaurant can be described by the following characteristics: opening-hours, price, parking, wi-Fi, payment, wheelchair accessible, etc.\n",
    "\n",
    "<em>The question is can we use one ore more of these characteristics to predict the success of a restaurant in a neighbourhood?</em>"
   ]
  },
  {
   "cell_type": "markdown",
   "metadata": {},
   "source": [
    "### Data Understanding\n",
    "First of all we need to get to collect data about existing restaurants for a particular neighbourhood.\n",
    "Luckily the Foursquare location API provides us with this information.\n",
    "\n",
    "The Foursquare Location API provides an endpoint to search for venues at neighbourhood.  \n",
    "`GET https://api.foursquare.com/v2/venues/search`\n"
   ]
  },
  {
   "cell_type": "code",
   "execution_count": 3,
   "metadata": {},
   "outputs": [],
   "source": [
    "# import some libraries to get the data from the Foursquare API.\n",
    "import numpy as np # library to handle data in a vectorized manner\n",
    "import pandas as pd # library for data analsysis\n",
    "import requests # library to handle requests\n",
    "from pandas import json_normalize # tranform JSON file into a pandas dataframe\n",
    "import json # library to handle JSON files\n",
    "import seaborn as sns # libray to plot\n",
    "import matplotlib.pylab as plt"
   ]
  },
  {
   "cell_type": "markdown",
   "metadata": {},
   "source": [
    "In order to connect with the Foursquare API we need client-credentials."
   ]
  },
  {
   "cell_type": "code",
   "execution_count": 4,
   "metadata": {},
   "outputs": [],
   "source": [
    "CLIENT_ID = '3YFI5TCENYNDK2SHXGEPBVFEEJNLXRPGXD024KVSUHUEOMB0' # your Foursquare ID\n",
    "CLIENT_SECRET = '2ODNQEIXVMPDZWPLFCIIKEOTYWKHK3GDFCE1JJJOMADEOPS3' # your Foursquare Secret\n",
    "VERSION = '20190425' # Foursquare API version"
   ]
  },
  {
   "cell_type": "markdown",
   "metadata": {},
   "source": [
    "We prepare the url where we filter on NEIGHBOURHOOD, RAIDUS AND CATEGORY_ID.  \n",
    "A list of categories can be found [here](https://developer.foursquare.com/docs/build-with-foursquare/categories/)."
   ]
  },
  {
   "cell_type": "code",
   "execution_count": 5,
   "metadata": {},
   "outputs": [],
   "source": [
    "NEIGHBOURHOOD=\"New York\"\n",
    "RADIUS=50000 #radius in meters\n",
    "LIMIT=50\n",
    "CATEGORY_ID = '4bf58dd8d48988d16c941735' # let's filter on Burger joints\n",
    "searchURL= 'https://api.foursquare.com/v2/venues/search?client_id={}&client_secret={}&v={}&radius={}&near={}&categoryId={}&limit={}'.format(CLIENT_ID, CLIENT_SECRET, VERSION, RADIUS, NEIGHBOURHOOD, CATEGORY_ID, LIMIT) # define URL"
   ]
  },
  {
   "cell_type": "markdown",
   "metadata": {},
   "source": [
    "Now we fetch all the venues located New York"
   ]
  },
  {
   "cell_type": "code",
   "execution_count": 6,
   "metadata": {},
   "outputs": [],
   "source": [
    "results = requests.get(searchURL).json()"
   ]
  },
  {
   "cell_type": "markdown",
   "metadata": {},
   "source": [
    "Lets print the first 5 restaurants to see if we received the correct data"
   ]
  },
  {
   "cell_type": "code",
   "execution_count": 7,
   "metadata": {},
   "outputs": [
    {
     "data": {
      "text/html": [
       "<div>\n",
       "<style scoped>\n",
       "    .dataframe tbody tr th:only-of-type {\n",
       "        vertical-align: middle;\n",
       "    }\n",
       "\n",
       "    .dataframe tbody tr th {\n",
       "        vertical-align: top;\n",
       "    }\n",
       "\n",
       "    .dataframe thead th {\n",
       "        text-align: right;\n",
       "    }\n",
       "</style>\n",
       "<table border=\"1\" class=\"dataframe\">\n",
       "  <thead>\n",
       "    <tr style=\"text-align: right;\">\n",
       "      <th></th>\n",
       "      <th>id</th>\n",
       "      <th>name</th>\n",
       "      <th>categories</th>\n",
       "      <th>referralId</th>\n",
       "      <th>hasPerk</th>\n",
       "      <th>location.address</th>\n",
       "      <th>location.crossStreet</th>\n",
       "      <th>location.lat</th>\n",
       "      <th>location.lng</th>\n",
       "      <th>location.labeledLatLngs</th>\n",
       "      <th>...</th>\n",
       "      <th>location.state</th>\n",
       "      <th>location.country</th>\n",
       "      <th>location.formattedAddress</th>\n",
       "      <th>delivery.id</th>\n",
       "      <th>delivery.url</th>\n",
       "      <th>delivery.provider.name</th>\n",
       "      <th>delivery.provider.icon.prefix</th>\n",
       "      <th>delivery.provider.icon.sizes</th>\n",
       "      <th>delivery.provider.icon.name</th>\n",
       "      <th>venuePage.id</th>\n",
       "    </tr>\n",
       "  </thead>\n",
       "  <tbody>\n",
       "    <tr>\n",
       "      <th>0</th>\n",
       "      <td>40e74880f964a520150a1fe3</td>\n",
       "      <td>Shake Shack</td>\n",
       "      <td>[{'id': '4bf58dd8d48988d16c941735', 'name': 'B...</td>\n",
       "      <td>v-1589878253</td>\n",
       "      <td>False</td>\n",
       "      <td>Southeast corner of Madison Square Park</td>\n",
       "      <td>Madison Ave &amp; E 23rd St</td>\n",
       "      <td>40.741484</td>\n",
       "      <td>-73.988218</td>\n",
       "      <td>[{'label': 'display', 'lat': 40.74148371088094...</td>\n",
       "      <td>...</td>\n",
       "      <td>NY</td>\n",
       "      <td>United States</td>\n",
       "      <td>[Southeast corner of Madison Square Park (Madi...</td>\n",
       "      <td>698246</td>\n",
       "      <td>https://www.seamless.com/menu/shake-shack-23rd...</td>\n",
       "      <td>seamless</td>\n",
       "      <td>https://fastly.4sqi.net/img/general/cap/</td>\n",
       "      <td>[40, 50]</td>\n",
       "      <td>/delivery_provider_seamless_20180129.png</td>\n",
       "      <td>NaN</td>\n",
       "    </tr>\n",
       "    <tr>\n",
       "      <th>1</th>\n",
       "      <td>5dcc4f94d4b62c0009df23dd</td>\n",
       "      <td>Emmy Squared</td>\n",
       "      <td>[{'id': '4bf58dd8d48988d1ca941735', 'name': 'P...</td>\n",
       "      <td>v-1589878253</td>\n",
       "      <td>False</td>\n",
       "      <td>1426 3rd Ave</td>\n",
       "      <td>81st St.</td>\n",
       "      <td>40.775582</td>\n",
       "      <td>-73.956576</td>\n",
       "      <td>[{'label': 'display', 'lat': 40.775582, 'lng':...</td>\n",
       "      <td>...</td>\n",
       "      <td>NY</td>\n",
       "      <td>United States</td>\n",
       "      <td>[1426 3rd Ave (81st St.), New York, NY 10028, ...</td>\n",
       "      <td>NaN</td>\n",
       "      <td>NaN</td>\n",
       "      <td>NaN</td>\n",
       "      <td>NaN</td>\n",
       "      <td>NaN</td>\n",
       "      <td>NaN</td>\n",
       "      <td>NaN</td>\n",
       "    </tr>\n",
       "    <tr>\n",
       "      <th>2</th>\n",
       "      <td>59133be8e2ead1422cf975bc</td>\n",
       "      <td>Burger Village</td>\n",
       "      <td>[{'id': '4bf58dd8d48988d16c941735', 'name': 'B...</td>\n",
       "      <td>v-1589878253</td>\n",
       "      <td>False</td>\n",
       "      <td>NaN</td>\n",
       "      <td>NaN</td>\n",
       "      <td>40.772611</td>\n",
       "      <td>-73.530310</td>\n",
       "      <td>[{'label': 'display', 'lat': 40.77261116515414...</td>\n",
       "      <td>...</td>\n",
       "      <td>NY</td>\n",
       "      <td>United States</td>\n",
       "      <td>[Hicksville, NY 11801, United States]</td>\n",
       "      <td>420244</td>\n",
       "      <td>https://www.seamless.com/menu/burger-village-2...</td>\n",
       "      <td>seamless</td>\n",
       "      <td>https://fastly.4sqi.net/img/general/cap/</td>\n",
       "      <td>[40, 50]</td>\n",
       "      <td>/delivery_provider_seamless_20180129.png</td>\n",
       "      <td>NaN</td>\n",
       "    </tr>\n",
       "    <tr>\n",
       "      <th>3</th>\n",
       "      <td>5655e006498ed8fc704e574d</td>\n",
       "      <td>Dark Side of the Moo</td>\n",
       "      <td>[{'id': '4bf58dd8d48988d16c941735', 'name': 'B...</td>\n",
       "      <td>v-1589878253</td>\n",
       "      <td>False</td>\n",
       "      <td>52 Bowers St</td>\n",
       "      <td>NaN</td>\n",
       "      <td>40.746059</td>\n",
       "      <td>-74.044582</td>\n",
       "      <td>[{'label': 'display', 'lat': 40.74605862371786...</td>\n",
       "      <td>...</td>\n",
       "      <td>NJ</td>\n",
       "      <td>United States</td>\n",
       "      <td>[52 Bowers St, Jersey City, NJ 07307, United S...</td>\n",
       "      <td>322648</td>\n",
       "      <td>https://www.grubhub.com/restaurant/dark-side-o...</td>\n",
       "      <td>grubhub</td>\n",
       "      <td>https://fastly.4sqi.net/img/general/cap/</td>\n",
       "      <td>[40, 50]</td>\n",
       "      <td>/delivery_provider_grubhub_20180129.png</td>\n",
       "      <td>202994527</td>\n",
       "    </tr>\n",
       "    <tr>\n",
       "      <th>4</th>\n",
       "      <td>54bc2c76498e852a0330576d</td>\n",
       "      <td>The Committed Pig</td>\n",
       "      <td>[{'id': '4bf58dd8d48988d16c941735', 'name': 'B...</td>\n",
       "      <td>v-1589878253</td>\n",
       "      <td>False</td>\n",
       "      <td>28 W Park Pl</td>\n",
       "      <td>Route 202</td>\n",
       "      <td>40.796839</td>\n",
       "      <td>-74.481776</td>\n",
       "      <td>[{'label': 'display', 'lat': 40.79683914555856...</td>\n",
       "      <td>...</td>\n",
       "      <td>NJ</td>\n",
       "      <td>United States</td>\n",
       "      <td>[28 W Park Pl (Route 202), Morristown, NJ 0796...</td>\n",
       "      <td>NaN</td>\n",
       "      <td>NaN</td>\n",
       "      <td>NaN</td>\n",
       "      <td>NaN</td>\n",
       "      <td>NaN</td>\n",
       "      <td>NaN</td>\n",
       "      <td>NaN</td>\n",
       "    </tr>\n",
       "  </tbody>\n",
       "</table>\n",
       "<p>5 rows × 24 columns</p>\n",
       "</div>"
      ],
      "text/plain": [
       "                         id                  name  \\\n",
       "0  40e74880f964a520150a1fe3           Shake Shack   \n",
       "1  5dcc4f94d4b62c0009df23dd          Emmy Squared   \n",
       "2  59133be8e2ead1422cf975bc        Burger Village   \n",
       "3  5655e006498ed8fc704e574d  Dark Side of the Moo   \n",
       "4  54bc2c76498e852a0330576d     The Committed Pig   \n",
       "\n",
       "                                          categories    referralId  hasPerk  \\\n",
       "0  [{'id': '4bf58dd8d48988d16c941735', 'name': 'B...  v-1589878253    False   \n",
       "1  [{'id': '4bf58dd8d48988d1ca941735', 'name': 'P...  v-1589878253    False   \n",
       "2  [{'id': '4bf58dd8d48988d16c941735', 'name': 'B...  v-1589878253    False   \n",
       "3  [{'id': '4bf58dd8d48988d16c941735', 'name': 'B...  v-1589878253    False   \n",
       "4  [{'id': '4bf58dd8d48988d16c941735', 'name': 'B...  v-1589878253    False   \n",
       "\n",
       "                          location.address     location.crossStreet  \\\n",
       "0  Southeast corner of Madison Square Park  Madison Ave & E 23rd St   \n",
       "1                             1426 3rd Ave                 81st St.   \n",
       "2                                      NaN                      NaN   \n",
       "3                             52 Bowers St                      NaN   \n",
       "4                             28 W Park Pl                Route 202   \n",
       "\n",
       "   location.lat  location.lng  \\\n",
       "0     40.741484    -73.988218   \n",
       "1     40.775582    -73.956576   \n",
       "2     40.772611    -73.530310   \n",
       "3     40.746059    -74.044582   \n",
       "4     40.796839    -74.481776   \n",
       "\n",
       "                             location.labeledLatLngs  ... location.state  \\\n",
       "0  [{'label': 'display', 'lat': 40.74148371088094...  ...             NY   \n",
       "1  [{'label': 'display', 'lat': 40.775582, 'lng':...  ...             NY   \n",
       "2  [{'label': 'display', 'lat': 40.77261116515414...  ...             NY   \n",
       "3  [{'label': 'display', 'lat': 40.74605862371786...  ...             NJ   \n",
       "4  [{'label': 'display', 'lat': 40.79683914555856...  ...             NJ   \n",
       "\n",
       "  location.country                          location.formattedAddress  \\\n",
       "0    United States  [Southeast corner of Madison Square Park (Madi...   \n",
       "1    United States  [1426 3rd Ave (81st St.), New York, NY 10028, ...   \n",
       "2    United States              [Hicksville, NY 11801, United States]   \n",
       "3    United States  [52 Bowers St, Jersey City, NJ 07307, United S...   \n",
       "4    United States  [28 W Park Pl (Route 202), Morristown, NJ 0796...   \n",
       "\n",
       "  delivery.id                                       delivery.url  \\\n",
       "0      698246  https://www.seamless.com/menu/shake-shack-23rd...   \n",
       "1         NaN                                                NaN   \n",
       "2      420244  https://www.seamless.com/menu/burger-village-2...   \n",
       "3      322648  https://www.grubhub.com/restaurant/dark-side-o...   \n",
       "4         NaN                                                NaN   \n",
       "\n",
       "  delivery.provider.name             delivery.provider.icon.prefix  \\\n",
       "0               seamless  https://fastly.4sqi.net/img/general/cap/   \n",
       "1                    NaN                                       NaN   \n",
       "2               seamless  https://fastly.4sqi.net/img/general/cap/   \n",
       "3                grubhub  https://fastly.4sqi.net/img/general/cap/   \n",
       "4                    NaN                                       NaN   \n",
       "\n",
       "  delivery.provider.icon.sizes               delivery.provider.icon.name  \\\n",
       "0                     [40, 50]  /delivery_provider_seamless_20180129.png   \n",
       "1                          NaN                                       NaN   \n",
       "2                     [40, 50]  /delivery_provider_seamless_20180129.png   \n",
       "3                     [40, 50]   /delivery_provider_grubhub_20180129.png   \n",
       "4                          NaN                                       NaN   \n",
       "\n",
       "  venuePage.id  \n",
       "0          NaN  \n",
       "1          NaN  \n",
       "2          NaN  \n",
       "3    202994527  \n",
       "4          NaN  \n",
       "\n",
       "[5 rows x 24 columns]"
      ]
     },
     "execution_count": 7,
     "metadata": {},
     "output_type": "execute_result"
    }
   ],
   "source": [
    "venues = results['response']['venues']\n",
    "nearby_venues = json_normalize(venues) # flatten JSON\n",
    "nearby_venues.head(5)"
   ]
  },
  {
   "cell_type": "markdown",
   "metadata": {},
   "source": [
    "#### Now we need to find the detailed information for each venue.\n",
    "In order to retrieve the detailed information about a venue we need it's ID. \n",
    "Once we have the ID, we can retrieve its details.\n",
    "\n",
    "`GET https://api.foursquare.com/v2/venues/VENUE_ID`\n"
   ]
  },
  {
   "cell_type": "markdown",
   "metadata": {},
   "source": [
    "First we need a list of ID's for each venue"
   ]
  },
  {
   "cell_type": "code",
   "execution_count": 8,
   "metadata": {},
   "outputs": [],
   "source": [
    "venue_ids = list(nearby_venues['id'])"
   ]
  },
  {
   "cell_type": "markdown",
   "metadata": {},
   "source": [
    "For each venue id, we collect the details and merge all this information into 1 dataframe"
   ]
  },
  {
   "cell_type": "code",
   "execution_count": 9,
   "metadata": {},
   "outputs": [],
   "source": [
    "def getDetails(ids):\n",
    "    venues_detail_frames = []\n",
    "    \n",
    "    for ID in ids:\n",
    "        getDetailsURL= 'https://api.foursquare.com/v2/venues/{}?client_id={}&client_secret={}&v={}'.format(ID,CLIENT_ID, CLIENT_SECRET, VERSION) # define URL\n",
    "        try:\n",
    "            result = requests.get(getDetailsURL).json()\n",
    "            venue_details = json_normalize(result['response']) # flatten JSON\n",
    "            venues_detail_frames.append(venue_details)\n",
    "        except:\n",
    "          print(\"Something went wrong\")\n",
    "        \n",
    "    return venues_detail_frames\n",
    "\n",
    "venues_detail_frames = getDetails(venue_ids)"
   ]
  },
  {
   "cell_type": "markdown",
   "metadata": {},
   "source": [
    "Rename some the collumns this is due to the flattening operation."
   ]
  },
  {
   "cell_type": "code",
   "execution_count": 10,
   "metadata": {},
   "outputs": [
    {
     "name": "stderr",
     "output_type": "stream",
     "text": [
      "/home/jupyterlab/conda/envs/python/lib/python3.6/site-packages/pandas/core/frame.py:4133: SettingWithCopyWarning: \n",
      "A value is trying to be set on a copy of a slice from a DataFrame\n",
      "\n",
      "See the caveats in the documentation: https://pandas.pydata.org/pandas-docs/stable/user_guide/indexing.html#returning-a-view-versus-a-copy\n",
      "  errors=errors,\n"
     ]
    },
    {
     "data": {
      "text/html": [
       "<div>\n",
       "<style scoped>\n",
       "    .dataframe tbody tr th:only-of-type {\n",
       "        vertical-align: middle;\n",
       "    }\n",
       "\n",
       "    .dataframe tbody tr th {\n",
       "        vertical-align: top;\n",
       "    }\n",
       "\n",
       "    .dataframe thead th {\n",
       "        text-align: right;\n",
       "    }\n",
       "</style>\n",
       "<table border=\"1\" class=\"dataframe\">\n",
       "  <thead>\n",
       "    <tr style=\"text-align: right;\">\n",
       "      <th></th>\n",
       "      <th>id</th>\n",
       "      <th>rating</th>\n",
       "      <th>groups</th>\n",
       "    </tr>\n",
       "  </thead>\n",
       "  <tbody>\n",
       "    <tr>\n",
       "      <th>0</th>\n",
       "      <td>40e74880f964a520150a1fe3</td>\n",
       "      <td>9.2</td>\n",
       "      <td>[{'type': 'price', 'name': 'Price', 'summary':...</td>\n",
       "    </tr>\n",
       "    <tr>\n",
       "      <th>0</th>\n",
       "      <td>5dcc4f94d4b62c0009df23dd</td>\n",
       "      <td>8.6</td>\n",
       "      <td>[{'type': 'price', 'name': 'Price', 'summary':...</td>\n",
       "    </tr>\n",
       "    <tr>\n",
       "      <th>0</th>\n",
       "      <td>59133be8e2ead1422cf975bc</td>\n",
       "      <td>8.7</td>\n",
       "      <td>[{'type': 'price', 'name': 'Price', 'summary':...</td>\n",
       "    </tr>\n",
       "    <tr>\n",
       "      <th>0</th>\n",
       "      <td>5655e006498ed8fc704e574d</td>\n",
       "      <td>8.9</td>\n",
       "      <td>[{'type': 'price', 'name': 'Price', 'summary':...</td>\n",
       "    </tr>\n",
       "    <tr>\n",
       "      <th>0</th>\n",
       "      <td>54bc2c76498e852a0330576d</td>\n",
       "      <td>8.6</td>\n",
       "      <td>[{'type': 'price', 'name': 'Price', 'summary':...</td>\n",
       "    </tr>\n",
       "  </tbody>\n",
       "</table>\n",
       "</div>"
      ],
      "text/plain": [
       "                         id  rating  \\\n",
       "0  40e74880f964a520150a1fe3     9.2   \n",
       "0  5dcc4f94d4b62c0009df23dd     8.6   \n",
       "0  59133be8e2ead1422cf975bc     8.7   \n",
       "0  5655e006498ed8fc704e574d     8.9   \n",
       "0  54bc2c76498e852a0330576d     8.6   \n",
       "\n",
       "                                              groups  \n",
       "0  [{'type': 'price', 'name': 'Price', 'summary':...  \n",
       "0  [{'type': 'price', 'name': 'Price', 'summary':...  \n",
       "0  [{'type': 'price', 'name': 'Price', 'summary':...  \n",
       "0  [{'type': 'price', 'name': 'Price', 'summary':...  \n",
       "0  [{'type': 'price', 'name': 'Price', 'summary':...  "
      ]
     },
     "execution_count": 10,
     "metadata": {},
     "output_type": "execute_result"
    }
   ],
   "source": [
    "result = pd.concat(venues_detail_frames)\n",
    "filterd_columns = ['venue.id','venue.rating', 'venue.attributes.groups']\n",
    "filtered_result = result[filterd_columns]\n",
    "\n",
    "#rename collumns\n",
    "for column in filtered_result.columns:\n",
    "    filtered_result.rename(columns={column: column.split('.')[-1]}, inplace=True)\n",
    "\n",
    "filtered_result.head(5)\n"
   ]
  },
  {
   "cell_type": "markdown",
   "metadata": {},
   "source": [
    "## Data Preparation \n",
    "Now that we have collected the data we must transform it into a useable subset and verify if we need more data.\n",
    "After this verification, we can check the data for questionable, missing or ambiguous case."
   ]
  },
  {
   "cell_type": "markdown",
   "metadata": {},
   "source": [
    "### Data extraction"
   ]
  },
  {
   "cell_type": "markdown",
   "metadata": {},
   "source": [
    "After investigation the data we can see that a lot of data is hidden in the 'groups' column.\n",
    "For each row in our dataframe we will extract the attributes in the 'groups' column.\n",
    "After extraction we will join the extracted attributes with the existing dataframe."
   ]
  },
  {
   "cell_type": "code",
   "execution_count": 11,
   "metadata": {},
   "outputs": [
    {
     "name": "stderr",
     "output_type": "stream",
     "text": [
      "/home/jupyterlab/conda/envs/python/lib/python3.6/site-packages/ipykernel_launcher.py:12: SettingWithCopyWarning: \n",
      "A value is trying to be set on a copy of a slice from a DataFrame\n",
      "\n",
      "See the caveats in the documentation: https://pandas.pydata.org/pandas-docs/stable/user_guide/indexing.html#returning-a-view-versus-a-copy\n",
      "  if sys.path[0] == '':\n"
     ]
    }
   ],
   "source": [
    "# we extract the price attribute\n",
    "def extractAttributes(row):\n",
    "    id = row['id']\n",
    "    df = pd.DataFrame(data={'id': [id]})\n",
    "    for group in row['groups']:\n",
    "        for item in group['items']:\n",
    "             tmp = pd.DataFrame(data={item['displayName']: [item['displayValue']], 'id': [id]})\n",
    "             df = df.join(tmp.set_index('id'), on='id')\n",
    "    return df.iloc[0]\n",
    "        \n",
    "# start by dropping all the rows that don't have a rating\n",
    "filtered_result.dropna(subset=['rating'], inplace=True)\n",
    "    \n",
    "extracted_df = filtered_result.apply(extractAttributes, axis=1)\n",
    "joined_df = filtered_result.join(extracted_df.set_index('id'), on='id')\n",
    "# drop unused collumns\n",
    "attributes_df = joined_df.drop(['groups', 'id'], axis=1)"
   ]
  },
  {
   "cell_type": "code",
   "execution_count": 12,
   "metadata": {},
   "outputs": [
    {
     "data": {
      "text/plain": [
       "(50, 31)"
      ]
     },
     "execution_count": 12,
     "metadata": {},
     "output_type": "execute_result"
    }
   ],
   "source": [
    "attributes_df.shape"
   ]
  },
  {
   "cell_type": "markdown",
   "metadata": {},
   "source": [
    "We notice that some columns have a lot of NaN values. Let's investigate:"
   ]
  },
  {
   "cell_type": "code",
   "execution_count": 13,
   "metadata": {},
   "outputs": [
    {
     "name": "stdout",
     "output_type": "stream",
     "text": [
      "rating              0\n",
      "Price               0\n",
      "Lunch               2\n",
      "Dinner              2\n",
      "Outdoor Seating     4\n",
      "Reservations        6\n",
      "Credit Cards        7\n",
      "Delivery            7\n",
      "Brunch             16\n",
      "Beer               21\n",
      "dtype: int64\n"
     ]
    }
   ],
   "source": [
    "# lets sort the the column by the amount of NA\n",
    "sorted_columns = attributes_df.isna().sum().sort_values(axis='index')\n",
    "print(sorted_columns.head(10))"
   ]
  },
  {
   "cell_type": "markdown",
   "metadata": {},
   "source": [
    "Lets use the top 10 columns who have the least missing values"
   ]
  },
  {
   "cell_type": "code",
   "execution_count": 14,
   "metadata": {},
   "outputs": [],
   "source": [
    "num_features = 10\n",
    "if num_features > len(sorted_columns):\n",
    "    num_features = len(sorted_columns)\n",
    "\n",
    "filter_collumns2=sorted_columns.index[0:num_features]\n",
    "attributes_filtered_df = attributes_df[filter_collumns2]"
   ]
  },
  {
   "cell_type": "markdown",
   "metadata": {},
   "source": [
    "### Note: we add some extra data since the data that we received from Foursquare is to small to perform an appropriate analysis "
   ]
  },
  {
   "cell_type": "code",
   "execution_count": 15,
   "metadata": {},
   "outputs": [],
   "source": [
    "import random\n",
    "ratings = []\n",
    "outdoor_seatings = []\n",
    "for i in range(0, 20):\n",
    "    ratings.append(random.randint(0, 5))\n",
    "    outdoor_seatings.append('No')\n",
    "\n",
    "mockData = pd.DataFrame({\"rating\":ratings, \n",
    "                         \"Outdoor Seating\":outdoor_seatings})\n",
    "attributes_filtered_df = attributes_filtered_df.append(mockData)"
   ]
  },
  {
   "cell_type": "markdown",
   "metadata": {},
   "source": [
    "Lets have a look at the different collumns and try to improve the data quality"
   ]
  },
  {
   "cell_type": "code",
   "execution_count": 16,
   "metadata": {},
   "outputs": [
    {
     "data": {
      "text/plain": [
       "(70, 10)"
      ]
     },
     "execution_count": 16,
     "metadata": {},
     "output_type": "execute_result"
    }
   ],
   "source": [
    "# lets drop all the samples that don't have price\n",
    "high_freq_price = attributes_filtered_df['Price'].value_counts().index[0] # find the price that occurs the most \n",
    "attributes_filtered_df['Price'].fillna(high_freq_price, inplace=True)\n",
    "# Since we are dealing with mostly binary categorical data, we can asume that if its NaN, we can safely convert to a 'No'\n",
    "attributes_filtered_df.fillna('No', inplace=True)\n",
    "\n",
    "# Lets convert some values to yes and no answers\n",
    "attributes_filtered_df = attributes_filtered_df.replace(r'\\$\\$\\$\\$', 'Very High', regex=True)\n",
    "attributes_filtered_df = attributes_filtered_df.replace(r'\\$\\$\\$', 'High', regex=True)\n",
    "attributes_filtered_df = attributes_filtered_df.replace(r'\\$\\$', 'Medium', regex=True)\n",
    "attributes_filtered_df = attributes_filtered_df.replace(r'\\$', 'Low', regex=True)\n",
    "\n",
    "attributes_filtered_df = attributes_filtered_df.replace(r'^.*Yes.*.', 'Yes', regex=True)\n",
    "attributes_filtered_df = attributes_filtered_df.replace(r'Free', 'Yes', regex=True)\n",
    "attributes_filtered_df = attributes_filtered_df.replace(r'^.*No.*.', 'No', regex=True)\n",
    "df = attributes_filtered_df # use df because it easier to type everytime\n",
    "df.shape"
   ]
  },
  {
   "cell_type": "markdown",
   "metadata": {},
   "source": [
    "### Data Exploration\n",
    "We will show some visual representations to show the relationship between multiple variables in our dataset."
   ]
  },
  {
   "cell_type": "markdown",
   "metadata": {},
   "source": [
    "#### Visualise the data"
   ]
  },
  {
   "cell_type": "markdown",
   "metadata": {},
   "source": [
    "##### Price and rating"
   ]
  },
  {
   "cell_type": "code",
   "execution_count": 17,
   "metadata": {},
   "outputs": [
    {
     "data": {
      "image/png": "[encoded data removed]",
      "text/plain": [
       "<Figure size 360x360 with 1 Axes>"
      ]
     },
     "metadata": {
      "needs_background": "light"
     },
     "output_type": "display_data"
    }
   ],
   "source": [
    "g = sns.catplot(x=\"Price\", y=\"rating\", data=df)"
   ]
  },
  {
   "cell_type": "markdown",
   "metadata": {},
   "source": [
    "We notice that restaurants with a low price tag collect the full range of ratings.\n",
    "Besides that we also notice that restaurants that charge 'very high' always received positive feedback."
   ]
  },
  {
   "cell_type": "markdown",
   "metadata": {},
   "source": [
    "##### Outdoor Seating and rating"
   ]
  },
  {
   "cell_type": "code",
   "execution_count": 55,
   "metadata": {},
   "outputs": [
    {
     "data": {
      "image/png": "[encoded data removed]",
      "text/plain": [
       "<Figure size 436x360 with 1 Axes>"
      ]
     },
     "metadata": {
      "needs_background": "light"
     },
     "output_type": "display_data"
    }
   ],
   "source": [
    "sns.catplot(x=\"Outdoor Seating\", y=\"rating\", hue=\"Price\", data=df, order=[\"No\", \"Yes\"],);"
   ]
  },
  {
   "cell_type": "markdown",
   "metadata": {},
   "source": [
    "We notice that restaurants offering outdoor seating will mostly result in a higher rating"
   ]
  },
  {
   "cell_type": "markdown",
   "metadata": {},
   "source": [
    "##### Boxplot of rating"
   ]
  },
  {
   "cell_type": "code",
   "execution_count": 18,
   "metadata": {},
   "outputs": [
    {
     "data": {
      "image/png": "[encoded data removed]",
      "text/plain": [
       "<Figure size 436x360 with 1 Axes>"
      ]
     },
     "metadata": {
      "needs_background": "light"
     },
     "output_type": "display_data"
    }
   ],
   "source": [
    "sns.catplot(x=\"Reservations\", y=\"rating\", hue=\"Price\", data=df, order=[\"No\", \"Yes\"],);"
   ]
  },
  {
   "cell_type": "markdown",
   "metadata": {},
   "source": [
    "Lets have a look at the distrubtion of the ratings"
   ]
  },
  {
   "cell_type": "code",
   "execution_count": 19,
   "metadata": {},
   "outputs": [
    {
     "data": {
      "text/plain": [
       "<matplotlib.axes._subplots.AxesSubplot at 0x7f03442a4fd0>"
      ]
     },
     "execution_count": 19,
     "metadata": {},
     "output_type": "execute_result"
    },
    {
     "data": {
      "image/png": "[encoded data removed]",
      "text/plain": [
       "<Figure size 432x288 with 1 Axes>"
      ]
     },
     "metadata": {
      "needs_background": "light"
     },
     "output_type": "display_data"
    }
   ],
   "source": [
    "sns.boxplot(x=df[\"rating\"] )"
   ]
  },
  {
   "cell_type": "markdown",
   "metadata": {},
   "source": [
    "We notice some that we have several outliers less than 4/2 times of the lower quartile.\n",
    "And that the Median is approximately 8.25"
   ]
  },
  {
   "cell_type": "markdown",
   "metadata": {},
   "source": [
    "### Feature Engineering on Categorical Data\n",
    "Turning categorical variables into quantitive variables in Python"
   ]
  },
  {
   "cell_type": "code",
   "execution_count": 20,
   "metadata": {},
   "outputs": [],
   "source": [
    "# except the first column everything value contains categorical data so we apply the One hot encoding to it \n",
    "transformed_df = pd.get_dummies(df, columns=filter_collumns2[1:], prefix=filter_collumns2[1:])"
   ]
  },
  {
   "cell_type": "code",
   "execution_count": 21,
   "metadata": {},
   "outputs": [
    {
     "data": {
      "text/plain": [
       "<matplotlib.axes._subplots.AxesSubplot at 0x7f03442267f0>"
      ]
     },
     "execution_count": 21,
     "metadata": {},
     "output_type": "execute_result"
    },
    {
     "data": {
      "image/png": "[encoded data removed]",
      "text/plain": [
       "<Figure size 792x648 with 2 Axes>"
      ]
     },
     "metadata": {
      "needs_background": "light"
     },
     "output_type": "display_data"
    }
   ],
   "source": [
    "# Compute the correlation matrix\n",
    "corr = transformed_df.corr()\n",
    "\n",
    "# Generate a mask for the upper triangle\n",
    "mask = np.triu(np.ones_like(corr, dtype=np.bool))\n",
    "\n",
    "# Set up the matplotlib figure\n",
    "f, ax = plt.subplots(figsize=(11, 9))\n",
    "\n",
    "# Draw the heatmap with the mask and correct aspect ratio\n",
    "sns.heatmap(corr, mask=mask, vmax=.3, center=0,\n",
    "            square=True, linewidths=.5, cbar_kws={\"shrink\": .5})"
   ]
  },
  {
   "cell_type": "markdown",
   "metadata": {},
   "source": [
    "We notice that the Delivery_No has a strong negative correlation regarding the dependent variable"
   ]
  },
  {
   "cell_type": "markdown",
   "metadata": {},
   "source": [
    "Lets use Pearson Correlation method to verify the strength of this correlation."
   ]
  },
  {
   "cell_type": "code",
   "execution_count": 22,
   "metadata": {},
   "outputs": [
    {
     "name": "stdout",
     "output_type": "stream",
     "text": [
      "Result for rating, coef: 1.0, p-value:0.0\n",
      "Result for Price_High, coef: 0.12156288047403808, p-value:0.31611235441073365\n",
      "Result for Price_Low, coef: 0.41233748566486883, p-value:0.00038972081173792696\n",
      "Result for Price_Medium, coef: -0.45087578461749683, p-value:8.96600687372047e-05\n",
      "Result for Lunch_Lunch, coef: 0.8896265375376349, p-value:7.716900117229984e-25\n",
      "Result for Lunch_No, coef: -0.8896265375376349, p-value:7.716900117229984e-25\n",
      "Result for Dinner_Dinner, coef: 0.8896265375376349, p-value:7.716900117229984e-25\n",
      "Result for Dinner_No, coef: -0.8896265375376349, p-value:7.716900117229984e-25\n",
      "Result for Outdoor Seating_No, coef: -0.41077580018164506, p-value:0.0004121354585010811\n",
      "Result for Outdoor Seating_Yes, coef: 0.41077580018164506, p-value:0.0004121354585010811\n",
      "Result for Reservations_No, coef: -0.19428117847944074, p-value:0.1070485650879935\n",
      "Result for Reservations_Yes, coef: 0.19428117847944074, p-value:0.1070485650879935\n",
      "Result for Credit Cards_No, coef: -0.7404549699254753, p-value:2.3734711721001083e-13\n",
      "Result for Credit Cards_Yes, coef: 0.7404549699254753, p-value:2.3734711721001083e-13\n",
      "Result for Delivery_Delivery, coef: 0.5252406889465525, p-value:3.0361081165612235e-06\n",
      "Result for Delivery_No, coef: -0.5252406889465525, p-value:3.0361081165612235e-06\n",
      "Result for Brunch_Brunch, coef: 0.5880708164547759, p-value:8.652671477944463e-08\n",
      "Result for Brunch_No, coef: -0.5880708164547759, p-value:8.652671477944463e-08\n",
      "Result for Beer_Beer, coef: 0.49978452395108164, p-value:1.0583379075164583e-05\n",
      "Result for Beer_No, coef: -0.49978452395108147, p-value:1.0583379075164688e-05\n"
     ]
    }
   ],
   "source": [
    "from scipy import stats\n",
    "for column in transformed_df.columns:\n",
    "    pearson_coef, p_value = stats.pearsonr(transformed_df[column], transformed_df['rating'])\n",
    "    print('Result for {}, coef: {}, p-value:{}'.format(column, pearson_coef, p_value) )"
   ]
  },
  {
   "cell_type": "markdown",
   "metadata": {},
   "source": [
    "### Create Training and Test Sets and apply scaling"
   ]
  },
  {
   "cell_type": "code",
   "execution_count": 23,
   "metadata": {},
   "outputs": [
    {
     "name": "stderr",
     "output_type": "stream",
     "text": [
      "/home/jupyterlab/conda/envs/python/lib/python3.6/site-packages/sklearn/preprocessing/data.py:625: DataConversionWarning: Data with input dtype uint8 were all converted to float64 by StandardScaler.\n",
      "  return self.partial_fit(X, y)\n",
      "/home/jupyterlab/conda/envs/python/lib/python3.6/site-packages/sklearn/base.py:462: DataConversionWarning: Data with input dtype uint8 were all converted to float64 by StandardScaler.\n",
      "  return self.fit(X, **fit_params).transform(X)\n",
      "/home/jupyterlab/conda/envs/python/lib/python3.6/site-packages/sklearn/preprocessing/data.py:625: DataConversionWarning: Data with input dtype uint8 were all converted to float64 by StandardScaler.\n",
      "  return self.partial_fit(X, y)\n",
      "/home/jupyterlab/conda/envs/python/lib/python3.6/site-packages/sklearn/base.py:462: DataConversionWarning: Data with input dtype uint8 were all converted to float64 by StandardScaler.\n",
      "  return self.fit(X, **fit_params).transform(X)\n"
     ]
    }
   ],
   "source": [
    "X = transformed_df[['Credit Cards_Yes','Lunch_Lunch', 'Dinner_Dinner']]\n",
    "y = transformed_df['rating']\n",
    "from sklearn.model_selection import train_test_split\n",
    "from sklearn.preprocessing import StandardScaler\n",
    "scaler = StandardScaler()\n",
    "X_train, X_test, y_train, y_test = train_test_split(X, y, test_size=0.33, random_state=42)\n",
    "X_train = scaler.fit_transform(X_train)\n",
    "X_test = scaler.fit_transform(X_test)\n"
   ]
  },
  {
   "cell_type": "markdown",
   "metadata": {},
   "source": [
    "#### Model development"
   ]
  },
  {
   "cell_type": "code",
   "execution_count": 24,
   "metadata": {},
   "outputs": [
    {
     "data": {
      "text/plain": [
       "array([8.5484973 , 8.5484973 , 8.5484973 , 8.5484973 , 2.14449776,\n",
       "       8.5484973 , 6.50753588, 8.5484973 , 8.5484973 , 8.5484973 ,\n",
       "       8.5484973 , 8.5484973 , 2.14449776, 6.50753588, 2.14449776,\n",
       "       8.5484973 , 2.14449776, 8.5484973 , 2.14449776, 8.5484973 ,\n",
       "       6.50753588, 8.5484973 , 6.50753588, 6.50753588])"
      ]
     },
     "execution_count": 24,
     "metadata": {},
     "output_type": "execute_result"
    }
   ],
   "source": [
    "from sklearn.linear_model import LinearRegression\n",
    "# fit a model\n",
    "lm = LinearRegression()\n",
    "model = lm.fit(X_train, y_train)\n",
    "y_pred = lm.predict(X_test)\n",
    "y_pred"
   ]
  },
  {
   "cell_type": "markdown",
   "metadata": {},
   "source": [
    "#### Lets compare the predictions with the True Values\n"
   ]
  },
  {
   "cell_type": "code",
   "execution_count": 25,
   "metadata": {},
   "outputs": [
    {
     "data": {
      "text/plain": [
       "Text(0, 0.5, 'Predictions')"
      ]
     },
     "execution_count": 25,
     "metadata": {},
     "output_type": "execute_result"
    },
    {
     "data": {
      "image/png": "[encoded data removed]",
      "text/plain": [
       "<Figure size 432x288 with 1 Axes>"
      ]
     },
     "metadata": {
      "needs_background": "light"
     },
     "output_type": "display_data"
    }
   ],
   "source": [
    "## The line / model\n",
    "plt.scatter(y_test, y_pred)\n",
    "plt.xlabel(\"True Values\")\n",
    "plt.ylabel(\"Predictions\")"
   ]
  },
  {
   "cell_type": "markdown",
   "metadata": {},
   "source": [
    "### In-sample evaluation of our model\n",
    "Return the coefficient of determination R^2 of the prediction."
   ]
  },
  {
   "cell_type": "code",
   "execution_count": 26,
   "metadata": {},
   "outputs": [
    {
     "name": "stdout",
     "output_type": "stream",
     "text": [
      "Score with Training data: 0.7673053161200108\n",
      "Score with Test data: 0.6610470269609283\n"
     ]
    }
   ],
   "source": [
    "print('Score with Training data:', model.score(X_train, y_train)) \n",
    "print('Score with Test data:', model.score(X_test, y_test)) "
   ]
  },
  {
   "cell_type": "markdown",
   "metadata": {},
   "source": [
    "We can say that 74% of the ratings can be explained by this multiple linear model for the test data."
   ]
  }
 ],
 "metadata": {
  "kernelspec": {
   "display_name": "Python",
   "language": "python",
   "name": "conda-env-python-py"
  },
  "language_info": {
   "codemirror_mode": {
    "name": "ipython",
    "version": 3
   },
   "file_extension": ".py",
   "mimetype": "text/x-python",
   "name": "python",
   "nbconvert_exporter": "python",
   "pygments_lexer": "ipython3",
   "version": "3.6.10"
  }
 },
 "nbformat": 4,
 "nbformat_minor": 4
}
